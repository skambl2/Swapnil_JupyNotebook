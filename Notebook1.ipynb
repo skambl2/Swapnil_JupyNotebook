{
 "cells": [
  {
   "cell_type": "code",
   "execution_count": 2,
   "metadata": {},
   "outputs": [
    {
     "name": "stdout",
     "output_type": "stream",
     "text": [
      "Hello\n",
      "Hello\n",
      "4\n",
      "4\n",
      "2.0\n",
      "2\n",
      "\n",
      "Jupyter Notebook\n",
      "Python 3\n",
      "Conda\n",
      "Atom\n",
      "\n",
      "Jupyter Notebook\n",
      "Python 3\n",
      "Conda\n",
      "Atom\n"
     ]
    }
   ],
   "source": [
    "#Basic Printing\n",
    "#Print String\n",
    "print(\"Hello\")\n",
    "print('Hello')\n",
    "#Print math operations\n",
    "print(2 + 2)\n",
    "print(2 * 2)\n",
    "print(4 / 2)\n",
    "print(4 // 2)\n",
    "#Print using Triple quotes\n",
    "print('''\n",
    "Jupyter Notebook\n",
    "Python 3\n",
    "Conda\n",
    "Atom''')\n",
    "print(\"\"\"\n",
    "Jupyter Notebook\n",
    "Python 3\n",
    "Conda\n",
    "Atom\"\"\")"
   ]
  },
  {
   "cell_type": "code",
   "execution_count": 3,
   "metadata": {},
   "outputs": [
    {
     "name": "stdout",
     "output_type": "stream",
     "text": [
      "Jupyter\tNotebook\n",
      "Python\t3\n",
      "Conda\n",
      "Atom\n",
      "Jupyter\u0007Notebook\tPython\\3'Conda\"Atom\n"
     ]
    }
   ],
   "source": [
    "#Escape Character\n",
    "text1 = \"Jupyter\\tNotebook\\nPython\\t3\\nConda\\nAtom\"\n",
    "print(text1)\n",
    "text2 = \"Jupyter\\aNotebook\\tPython\\\\3\\'Conda\\\"Atom\"\n",
    "print(text2)"
   ]
  },
  {
   "cell_type": "code",
   "execution_count": 10,
   "metadata": {},
   "outputs": [
    {
     "name": "stdout",
     "output_type": "stream",
     "text": [
      "\n",
      "False\tclass\tfinally\tis\treturn\n",
      "None\tfor\tlambda\ttry\tcontinue\n",
      "except\tTrue\tdef\tglobal\tnot\n",
      "with\tas\telif\tif\tor\n",
      "yield\tassert\telse\timport\tpass\n",
      "break\texcept\tin\traise\n",
      "\n"
     ]
    }
   ],
   "source": [
    "#Keywords in Python.Reserved\n",
    "print('''\n",
    "False\\tclass\\tfinally\\tis\\treturn\n",
    "None\\tfor\\tlambda\\ttry\\tcontinue\n",
    "except\\tTrue\\tdef\\tglobal\\tnot\n",
    "with\\tas\\telif\\tif\\tor\n",
    "yield\\tassert\\telse\\timport\\tpass\n",
    "break\\texcept\\tin\\traise\n",
    "''')\n"
   ]
  },
  {
   "cell_type": "code",
   "execution_count": 12,
   "metadata": {},
   "outputs": [
    {
     "name": "stdout",
     "output_type": "stream",
     "text": [
      "45\n"
     ]
    }
   ],
   "source": [
    "#Continutation Char : continuation character (\\)\n",
    "a = 1 + 2 + 3 + \\\n",
    "    4 + 5 + 6 + \\\n",
    "    7 + 8 + 9\n",
    "print(a)"
   ]
  },
  {
   "cell_type": "code",
   "execution_count": 14,
   "metadata": {},
   "outputs": [
    {
     "name": "stdout",
     "output_type": "stream",
     "text": [
      "Hello\n",
      "Jupyter\n",
      "HelloJupyter\n",
      "Hello Jupyter\n"
     ]
    }
   ],
   "source": [
    "#Strings\n",
    "greet = \"Hello\"\n",
    "name = \"Jupyter\"\n",
    "print(greet)\n",
    "print(name)\n",
    "print(greet + name)\n",
    "print(greet +' '+ name)"
   ]
  },
  {
   "cell_type": "code",
   "execution_count": 1,
   "metadata": {},
   "outputs": [
    {
     "name": "stdout",
     "output_type": "stream",
     "text": [
      "<class 'str'>\n",
      "Green Bird\n",
      "G\n",
      "Green Bird\n",
      "Green Bir\n",
      "Green Bi\n",
      "GenBr\n",
      "GeBd\n",
      "10\n",
      "G\n",
      "r\n",
      "e\n",
      "e\n",
      "n\n",
      " \n",
      "B\n",
      "i\n",
      "r\n",
      "d\n",
      "Vowels in 'Blue Bird':uei\n",
      "True\n",
      "True\n"
     ]
    }
   ],
   "source": [
    "#String index,len,in,for,f-string\n",
    "parrot = \"Green Bird\"\n",
    "\n",
    "print(\"Type:\",type(parrot))\n",
    "print(\"Print Entire String:\",parrot)\n",
    "print(\"Print first element:\",parrot[0])\n",
    "print(\"String Slicing\")\n",
    "print(parrot[0:])\n",
    "print(parrot[:-1])\n",
    "print(parrot[0:-2])\n",
    "print(parrot[0::2])\n",
    "print(parrot[0::3])\n",
    "print(f\"Length of string parrot: {len(parrot)}\")\n",
    "p\n",
    "for i in parrot:\n",
    "    print(i)\n",
    "\n",
    "#String are immutable\n",
    "#parrot[3] = 'd'\n",
    "#But the string can be re-asigned\n",
    "parrot = \"Blue Bird\"\n",
    "\n",
    "vow = ''\n",
    "for i in parrot:\n",
    "    if i in \"aeiou\":\n",
    "        vow +=i\n",
    "\n",
    "print(f\"Vowels in \\'{parrot}\\':{vow}\")\n",
    "\n",
    "if \"Bird\" in parrot:\n",
    "    print(True)\n",
    "elif \"Green\" in parrot:\n",
    "    print(True)\n",
    "    \n",
    "    \n",
    "if \"Blue\" in parrot:\n",
    "    print(True)\n",
    "else:\n",
    "    print(False)"
   ]
  },
  {
   "cell_type": "code",
   "execution_count": 26,
   "metadata": {},
   "outputs": [
    {
     "name": "stdout",
     "output_type": "stream",
     "text": [
      "Python using Jupyter Notebook\n",
      "Python using Jupyter Notebook\n",
      "Python using Jupyter Notebook\n"
     ]
    }
   ],
   "source": [
    "#Format string and f-string\n",
    "text1 = \"Jupyter Notebook\"\n",
    "#f-string\n",
    "print(f\"Python using {text1}\")\n",
    "text2 = \"Python using {}\"\n",
    "print(\"Python using {}\".format(text1))\n",
    "print(text2.format(text1))"
   ]
  },
  {
   "cell_type": "code",
   "execution_count": 5,
   "metadata": {},
   "outputs": [
    {
     "name": "stdout",
     "output_type": "stream",
     "text": [
      "0\n",
      "1\n",
      "2\n",
      "3\n",
      "4\n",
      "5\n",
      "6\n",
      "7\n",
      "8\n",
      "9\n",
      "10\n",
      "**********\n",
      "1\n",
      "2\n",
      "3\n",
      "4\n",
      "5\n",
      "6\n",
      "7\n",
      "8\n",
      "9\n",
      "0\n",
      "**********\n",
      "P\n",
      "a\n",
      "r\n",
      "r\n",
      "o\n",
      "t\n"
     ]
    }
   ],
   "source": [
    "#For Loop\n",
    "for i in range(11):\n",
    "    print(i)\n",
    "\n",
    "string_txt = \"1234567890\"\n",
    "print('*'*10)\n",
    "for i in string_txt:\n",
    "    print(i)\n",
    "\n",
    "string_txt2 = \"Parrot\"\n",
    "print('*'*10)\n",
    "for i in string_txt2:\n",
    "    print(i)"
   ]
  },
  {
   "cell_type": "code",
   "execution_count": 44,
   "metadata": {},
   "outputs": [
    {
     "name": "stdout",
     "output_type": "stream",
     "text": [
      "Enter a number:2\n",
      "You typed: 2\n",
      "Enter another number:2\n",
      "You entered: 2\n",
      "Enter three numbers: 2 2 2\n"
     ]
    }
   ],
   "source": [
    "#User Input\n",
    "print(\"Enter a number:\",end ='')\n",
    "x = input()\n",
    "print(\"You typed:\",x)\n",
    "\n",
    "y = input(\"Enter another number:\")\n",
    "print(\"You entered:\",y)\n",
    "\n",
    "#Multiple input\n",
    "num1, num2, num3 = input(\"Enter three numbers: \").split()"
   ]
  },
  {
   "cell_type": "code",
   "execution_count": 15,
   "metadata": {},
   "outputs": [
    {
     "name": "stdout",
     "output_type": "stream",
     "text": [
      "Age greater than equal to 25 but less than 35.\n",
      "**********\n",
      "Number greater than 10.\n",
      "Number greater than 15.\n",
      "Number greater than 20.\n",
      "Number is 25.\n"
     ]
    }
   ],
   "source": [
    "#if...elif....else\n",
    "age = 30\n",
    "if age >= 25:\n",
    "    print(\"Age greater than equal to 25 but less than 35.\")\n",
    "elif age >= 35:\n",
    "    print(\"Age greater than or equal.\")\n",
    "else:\n",
    "    print(\"Age less than 25\")\n",
    "\n",
    "print(\"*\"*10)\n",
    "#Nested if\n",
    "number = 25\n",
    "if number >= 10:\n",
    "    print(\"Number greater than 10.\")\n",
    "    if number > 15:\n",
    "        print(\"Number greater than 15.\")\n",
    "        if number > 20:\n",
    "            print(\"Number greater than 20.\")\n",
    "            if number == 25:\n",
    "                print(f\"Number is {number}.\")\n",
    "else:\n",
    "    print(\"Number less than 10.\")"
   ]
  },
  {
   "cell_type": "code",
   "execution_count": 24,
   "metadata": {},
   "outputs": [
    {
     "name": "stdout",
     "output_type": "stream",
     "text": [
      "Hello\n"
     ]
    }
   ],
   "source": [
    "#Strange case:\n",
    "xt = \"False\"\n",
    "if xt:\n",
    "    print(\"Hello\")"
   ]
  },
  {
   "cell_type": "code",
   "execution_count": 25,
   "metadata": {},
   "outputs": [
    {
     "name": "stdout",
     "output_type": "stream",
     "text": [
      "False\n",
      "True\n"
     ]
    }
   ],
   "source": [
    "#Negation\n",
    "print(not True)\n",
    "print(not False)"
   ]
  },
  {
   "cell_type": "code",
   "execution_count": 30,
   "metadata": {},
   "outputs": [
    {
     "name": "stdout",
     "output_type": "stream",
     "text": [
      "Text1Text2\n",
      "Text1 Text2\n",
      "T#e#x#t#1\n",
      "P a r r o t\n",
      "B l u e B i r d\n"
     ]
    }
   ],
   "source": [
    "#end and Joins\n",
    "print(\"Text1\",end='')\n",
    "print(\"Text2\")\n",
    "print(\"Text1\",end =' ')\n",
    "print(\"Text2\")\n",
    "print('#'.join(\"Text1\"))\n",
    "print(' '.join(\"Parrot\"))\n",
    "str1 = \"BlueBird\"\n",
    "print(' '.join(str1))"
   ]
  },
  {
   "cell_type": "code",
   "execution_count": 37,
   "metadata": {},
   "outputs": [
    {
     "data": {
      "text/plain": [
       "'#Argument pass and unpack\\n#Using import module argv\\nfrom sys import argv\\n#Unpack and assign\\nscript , number1 ,number2 = argv\\nprint(number1)\\nprint(number2)\\n#Run using \\n#python file.py 10 20'"
      ]
     },
     "execution_count": 37,
     "metadata": {},
     "output_type": "execute_result"
    }
   ],
   "source": [
    "\"\"\"#Argument pass and unpack\n",
    "#Using import module argv\n",
    "from sys import argv\n",
    "#Unpack and assign\n",
    "script , number1 ,number2 = argv\n",
    "print(number1)\n",
    "print(number2)\n",
    "#Run using \n",
    "#python file.py 10 20\"\"\""
   ]
  },
  {
   "cell_type": "code",
   "execution_count": 47,
   "metadata": {},
   "outputs": [
    {
     "data": {
      "text/plain": [
       "' \\nRun its as \\n>>> python abc.py file1.txt file2.txt file3.txt file4.txt file5.txt\\n'"
      ]
     },
     "execution_count": 47,
     "metadata": {},
     "output_type": "execute_result"
    }
   ],
   "source": [
    "\"\"\"\n",
    "from sys import argv\n",
    "script, filename1, filename2, filename3, filename4, filename5 = argv\n",
    "#File Reading and writing\n",
    "\n",
    "#Open file. Read by default\n",
    "txt1 = open(filename1)\n",
    "#Read and print\n",
    "print(txt1.read())\n",
    "txt1.close()\n",
    "\n",
    "#Open and write\n",
    "#Auto-truncates txt2\n",
    "txt2 = open(filename2,'w')\n",
    "#w+ , r+, a+ open for read and write\n",
    "#a+ is for append\n",
    "#txt2 = open(filename3 ,'w+')\n",
    "#print(txt2.read()) #This will be empty\n",
    "#Writes new line and Hello in txt2\n",
    "txt2.write(\"\\n\")\n",
    "txt2.write(\"Hello\")\n",
    "#Closing files\n",
    "txt2.close()\n",
    "\n",
    "#Truncation\n",
    "txt3 = open(filename3,'w')\n",
    "txt3.truncate()\n",
    "txt3.close()\n",
    "\n",
    "#Read from one file and write to other file\n",
    "txt4 = open(filename4)\n",
    "txt4_dummy = txt4.read()\n",
    "txt5 = open(filename5,'w')\n",
    "txt5.write(txt4_dummy)\n",
    "\n",
    "txt4.close()\n",
    "txt5.close()\n",
    "\"\"\"\n",
    "\n",
    "\"\"\" \n",
    "Run its as \n",
    ">>> python abc.py file1.txt file2.txt file3.txt file4.txt file5.txt\n",
    "\"\"\""
   ]
  },
  {
   "cell_type": "code",
   "execution_count": null,
   "metadata": {},
   "outputs": [],
   "source": [
    "#File read, write, realine, seek"
   ]
  }
 ],
 "metadata": {
  "kernelspec": {
   "display_name": "Python 3",
   "language": "python",
   "name": "python3"
  },
  "language_info": {
   "codemirror_mode": {
    "name": "ipython",
    "version": 3
   },
   "file_extension": ".py",
   "mimetype": "text/x-python",
   "name": "python",
   "nbconvert_exporter": "python",
   "pygments_lexer": "ipython3",
   "version": "3.6.0"
  }
 },
 "nbformat": 4,
 "nbformat_minor": 2
}
